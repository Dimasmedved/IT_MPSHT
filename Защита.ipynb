{
 "cells": [
  {
   "cell_type": "markdown",
   "metadata": {},
   "source": [
    "# 1: Сортировка фото кошек и собак с помощью нейронной сети"
   ]
  },
  {
   "cell_type": "markdown",
   "metadata": {},
   "source": [
    "Подгружаем нужные библиотеки"
   ]
  },
  {
   "cell_type": "code",
   "execution_count": 2,
   "metadata": {},
   "outputs": [],
   "source": [
    "# Импорт библиотеки TensorFlow под псевдонимом tf\n",
    "import tensorflow as tf  \n",
    "# Импорт модуля ImageDataGenerator для аугментации изображений\n",
    "from tensorflow.keras.preprocessing.image import ImageDataGenerator  \n",
    "# Импорт класса Model для создания модели нейронной сети\n",
    "from tensorflow.keras.models import Model  \n",
    "# Импорт слоев для построения нейронной сети\n",
    "from tensorflow.keras.layers import Input, Flatten, Dense, Dropout, GlobalAveragePooling2D\n",
    "# Импорт предварительно обученной модели MobileNet и функции для предварительной \n",
    "# обработки входных данных  \n",
    "from tensorflow.keras.applications.mobilenet import MobileNet, preprocess_input  \n",
    "# Импорт модуля для предварительной обработки изображений\n",
    "from tensorflow.keras.preprocessing import image  \n",
    "# Импорт модуля для математических операций\n",
    "import math  \n",
    "# Импорт библиотеки Matplotlib для визуализации данных\n",
    "import matplotlib.pyplot as plt  \n",
    "# Импорт библиотеки NumPy для работы с массивами\n",
    "import numpy as np\n",
    "# Импорт модуля Image из библиотеки Pillow для работы с изображениями  \n",
    "from PIL import Image\n"
   ]
  },
  {
   "cell_type": "markdown",
   "metadata": {},
   "source": [
    "**Скачиваем файлы:** https://disk.yandex.ru/d/OYYCfSzhfRcw8w \\\n",
    "Файлы уже отсортированы по папкам: \\\n",
    "– в папке ${\\bf train}$ файлы для обучения нейросети \\\n",
    "– в папке ${\\bf test}$ файлы для проверки нейросети \\\n",
    "Внутри этих папок есть папки ${\\bf cats}$ и ${\\bf dogs}$, где собрано несколько десятков фотографий с кошками и собаками. \\\n",
    " \\\n",
    "${\\bf Ответьте~на~вопрос:~для~чего~нужны~константы,~которые~вводятся~ниже?}$"
   ]
  },
  {
   "cell_type": "code",
   "execution_count": 3,
   "metadata": {},
   "outputs": [],
   "source": [
    "TRAIN_DATA_DIR = 'D:/pastushenko/ит/test'  # Путь к каталогу с обучающими данными\n",
    "VALIDATION_DATA_DIR = 'D:/pastushenko/ит/train'  # Путь к каталогу с данными для валидации\n",
    "TRAIN_SAMPLES = 1000  # Общее количество обучающих примеров\n",
    "VALIDATION_SAMPLES = 200  # Общее количество примеров для валидации\n",
    "NUM_CLASSES = 2  # Количество классов (в данном случае два класса: 'кошки' и 'собаки')\n",
    "IMG_WIDTH, IMG_HEIGHT = 224, 224  # Размеры изображений (ширина и высота)\n",
    "BATCH_SIZE = 5  # Размер пакета для обучения модели (количество образцов, обрабатываемых моделью за один шаг обучения)\n"
   ]
  },
  {
   "cell_type": "markdown",
   "metadata": {},
   "source": [
    "Создаются два генератора данных. Для обучения нейросети недостаточно пары сотен фотографий. \\\n",
    "Поэтому будет использоваться такой приём как ${\\bf аргументация}$ (что это?)"
   ]
  },
  {
   "cell_type": "code",
   "execution_count": 4,
   "metadata": {},
   "outputs": [],
   "source": [
    "train_datagen = ImageDataGenerator(  # Создание генератора данных для обучения\n",
    "    preprocessing_function=preprocess_input,  # Предварительная обработка изображений (в данном случае с использованием функции preprocess_input)\n",
    "    rotation_range=20,  # Диапазон вращения изображений (от -20 до 20 градусов)\n",
    "    width_shift_range=0.2,  # Диапазон сдвига изображений по горизонтали (относительно ширины изображения)\n",
    "    height_shift_range=0.2,  # Диапазон сдвига изображений по вертикали (относительно высоты изображения)\n",
    "    zoom_range=0.2  # Диапазон масштабирования изображений (от 0.8 до 1.2)\n",
    ")\n",
    "\n",
    "val_datagen = ImageDataGenerator(  # Создание генератора данных для валидации\n",
    "    preprocessing_function=preprocess_input  # Предварительная обработка изображений (в данном случае с использованием функции preprocess_input)\n",
    ")\n"
   ]
  },
  {
   "cell_type": "code",
   "execution_count": 5,
   "metadata": {},
   "outputs": [
    {
     "ename": "OSError",
     "evalue": "[WinError 123] Синтаксическая ошибка в имени файла, имени папки или метке тома: 'D:\\\\pastushenko\\\\ит\\test'",
     "output_type": "error",
     "traceback": [
      "\u001b[1;31m---------------------------------------------------------------------------\u001b[0m",
      "\u001b[1;31mOSError\u001b[0m                                   Traceback (most recent call last)",
      "Cell \u001b[1;32mIn[5], line 1\u001b[0m\n\u001b[1;32m----> 1\u001b[0m train_generator \u001b[38;5;241m=\u001b[39m train_datagen\u001b[38;5;241m.\u001b[39mflow_from_directory(\n\u001b[0;32m      2\u001b[0m     TRAIN_DATA_DIR,  \u001b[38;5;66;03m# Путь к каталогу с обучающими данными\u001b[39;00m\n\u001b[0;32m      3\u001b[0m     target_size\u001b[38;5;241m=\u001b[39m(IMG_WIDTH, IMG_HEIGHT),  \u001b[38;5;66;03m# Желаемый размер изображений (ширина, высота)\u001b[39;00m\n\u001b[0;32m      4\u001b[0m     batch_size\u001b[38;5;241m=\u001b[39mBATCH_SIZE,  \u001b[38;5;66;03m# Размер пакета для обучения модели\u001b[39;00m\n\u001b[0;32m      5\u001b[0m     shuffle\u001b[38;5;241m=\u001b[39m\u001b[38;5;28;01mTrue\u001b[39;00m,  \u001b[38;5;66;03m# Перемешивание данных после каждой эпохи\u001b[39;00m\n\u001b[0;32m      6\u001b[0m     seed\u001b[38;5;241m=\u001b[39m\u001b[38;5;241m12345\u001b[39m,  \u001b[38;5;66;03m# Задание начального состояния для генератора случайных чисел (для воспроизводимости)\u001b[39;00m\n\u001b[0;32m      7\u001b[0m     class_mode\u001b[38;5;241m=\u001b[39m\u001b[38;5;124m'\u001b[39m\u001b[38;5;124mcategorical\u001b[39m\u001b[38;5;124m'\u001b[39m  \u001b[38;5;66;03m# Режим классификации (в данном случае многоклассовая классификация)\u001b[39;00m\n\u001b[0;32m      8\u001b[0m )\n\u001b[0;32m     10\u001b[0m validation_generator \u001b[38;5;241m=\u001b[39m val_datagen\u001b[38;5;241m.\u001b[39mflow_from_directory(\n\u001b[0;32m     11\u001b[0m     VALIDATION_DATA_DIR,  \u001b[38;5;66;03m# Путь к каталогу с данными для валидации\u001b[39;00m\n\u001b[0;32m     12\u001b[0m     target_size\u001b[38;5;241m=\u001b[39m(IMG_WIDTH, IMG_HEIGHT),  \u001b[38;5;66;03m# Желаемый размер изображений (ширина, высота)\u001b[39;00m\n\u001b[1;32m   (...)\u001b[0m\n\u001b[0;32m     15\u001b[0m     class_mode\u001b[38;5;241m=\u001b[39m\u001b[38;5;124m'\u001b[39m\u001b[38;5;124mcategorical\u001b[39m\u001b[38;5;124m'\u001b[39m  \u001b[38;5;66;03m# Режим классификации (в данном случае многоклассовая классификация)\u001b[39;00m\n\u001b[0;32m     16\u001b[0m )\n",
      "File \u001b[1;32mC:\\ProgramData\\anaconda3\\Lib\\site-packages\\keras\\src\\legacy\\preprocessing\\image.py:1138\u001b[0m, in \u001b[0;36mImageDataGenerator.flow_from_directory\u001b[1;34m(self, directory, target_size, color_mode, classes, class_mode, batch_size, shuffle, seed, save_to_dir, save_prefix, save_format, follow_links, subset, interpolation, keep_aspect_ratio)\u001b[0m\n\u001b[0;32m   1120\u001b[0m \u001b[38;5;28;01mdef\u001b[39;00m \u001b[38;5;21mflow_from_directory\u001b[39m(\n\u001b[0;32m   1121\u001b[0m     \u001b[38;5;28mself\u001b[39m,\n\u001b[0;32m   1122\u001b[0m     directory,\n\u001b[1;32m   (...)\u001b[0m\n\u001b[0;32m   1136\u001b[0m     keep_aspect_ratio\u001b[38;5;241m=\u001b[39m\u001b[38;5;28;01mFalse\u001b[39;00m,\n\u001b[0;32m   1137\u001b[0m ):\n\u001b[1;32m-> 1138\u001b[0m     \u001b[38;5;28;01mreturn\u001b[39;00m DirectoryIterator(\n\u001b[0;32m   1139\u001b[0m         directory,\n\u001b[0;32m   1140\u001b[0m         \u001b[38;5;28mself\u001b[39m,\n\u001b[0;32m   1141\u001b[0m         target_size\u001b[38;5;241m=\u001b[39mtarget_size,\n\u001b[0;32m   1142\u001b[0m         color_mode\u001b[38;5;241m=\u001b[39mcolor_mode,\n\u001b[0;32m   1143\u001b[0m         keep_aspect_ratio\u001b[38;5;241m=\u001b[39mkeep_aspect_ratio,\n\u001b[0;32m   1144\u001b[0m         classes\u001b[38;5;241m=\u001b[39mclasses,\n\u001b[0;32m   1145\u001b[0m         class_mode\u001b[38;5;241m=\u001b[39mclass_mode,\n\u001b[0;32m   1146\u001b[0m         data_format\u001b[38;5;241m=\u001b[39m\u001b[38;5;28mself\u001b[39m\u001b[38;5;241m.\u001b[39mdata_format,\n\u001b[0;32m   1147\u001b[0m         batch_size\u001b[38;5;241m=\u001b[39mbatch_size,\n\u001b[0;32m   1148\u001b[0m         shuffle\u001b[38;5;241m=\u001b[39mshuffle,\n\u001b[0;32m   1149\u001b[0m         seed\u001b[38;5;241m=\u001b[39mseed,\n\u001b[0;32m   1150\u001b[0m         save_to_dir\u001b[38;5;241m=\u001b[39msave_to_dir,\n\u001b[0;32m   1151\u001b[0m         save_prefix\u001b[38;5;241m=\u001b[39msave_prefix,\n\u001b[0;32m   1152\u001b[0m         save_format\u001b[38;5;241m=\u001b[39msave_format,\n\u001b[0;32m   1153\u001b[0m         follow_links\u001b[38;5;241m=\u001b[39mfollow_links,\n\u001b[0;32m   1154\u001b[0m         subset\u001b[38;5;241m=\u001b[39msubset,\n\u001b[0;32m   1155\u001b[0m         interpolation\u001b[38;5;241m=\u001b[39minterpolation,\n\u001b[0;32m   1156\u001b[0m         dtype\u001b[38;5;241m=\u001b[39m\u001b[38;5;28mself\u001b[39m\u001b[38;5;241m.\u001b[39mdtype,\n\u001b[0;32m   1157\u001b[0m     )\n",
      "File \u001b[1;32mC:\\ProgramData\\anaconda3\\Lib\\site-packages\\keras\\src\\legacy\\preprocessing\\image.py:453\u001b[0m, in \u001b[0;36mDirectoryIterator.__init__\u001b[1;34m(self, directory, image_data_generator, target_size, color_mode, classes, class_mode, batch_size, shuffle, seed, data_format, save_to_dir, save_prefix, save_format, follow_links, subset, interpolation, keep_aspect_ratio, dtype)\u001b[0m\n\u001b[0;32m    451\u001b[0m \u001b[38;5;28;01mif\u001b[39;00m \u001b[38;5;129;01mnot\u001b[39;00m classes:\n\u001b[0;32m    452\u001b[0m     classes \u001b[38;5;241m=\u001b[39m []\n\u001b[1;32m--> 453\u001b[0m     \u001b[38;5;28;01mfor\u001b[39;00m subdir \u001b[38;5;129;01min\u001b[39;00m \u001b[38;5;28msorted\u001b[39m(os\u001b[38;5;241m.\u001b[39mlistdir(directory)):\n\u001b[0;32m    454\u001b[0m         \u001b[38;5;28;01mif\u001b[39;00m os\u001b[38;5;241m.\u001b[39mpath\u001b[38;5;241m.\u001b[39misdir(os\u001b[38;5;241m.\u001b[39mpath\u001b[38;5;241m.\u001b[39mjoin(directory, subdir)):\n\u001b[0;32m    455\u001b[0m             classes\u001b[38;5;241m.\u001b[39mappend(subdir)\n",
      "\u001b[1;31mOSError\u001b[0m: [WinError 123] Синтаксическая ошибка в имени файла, имени папки или метке тома: 'D:\\\\pastushenko\\\\ит\\test'"
     ]
    }
   ],
   "source": [
    "train_generator = train_datagen.flow_from_directory(\n",
    "    TRAIN_DATA_DIR,  # Путь к каталогу с обучающими данными\n",
    "    target_size=(IMG_WIDTH, IMG_HEIGHT),  # Желаемый размер изображений (ширина, высота)\n",
    "    batch_size=BATCH_SIZE,  # Размер пакета для обучения модели\n",
    "    shuffle=True,  # Перемешивание данных после каждой эпохи\n",
    "    seed=12345,  # Задание начального состояния для генератора случайных чисел (для воспроизводимости)\n",
    "    class_mode='categorical'  # Режим классификации (в данном случае многоклассовая классификация)\n",
    ")\n",
    "\n",
    "validation_generator = val_datagen.flow_from_directory(\n",
    "    VALIDATION_DATA_DIR,  # Путь к каталогу с данными для валидации\n",
    "    target_size=(IMG_WIDTH, IMG_HEIGHT),  # Желаемый размер изображений (ширина, высота)\n",
    "    batch_size=BATCH_SIZE,  # Размер пакета для валидации модели\n",
    "    shuffle=False,  # Не перемешивать данные (для сохранения порядка)\n",
    "    class_mode='categorical'  # Режим классификации (в данном случае многоклассовая классификация)\n",
    ")\n"
   ]
  },
  {
   "cell_type": "markdown",
   "metadata": {},
   "source": [
    "# Создание модели на основе нейронной сети, которая основана на готовой нейронной сети MobileNet (она называется базовой моделью). \n",
    "В базовой модели нужно отключить обучение (для всех слоев устанавливается **trainable = False**). \\\n",
    "Входное изображение поступает на вход базовой модели. \\\n",
    "После базовой модели добавляется несколько своих слоев: \\\n",
    "– слой пулинга **GlobalAveragePooling2D**; \\\n",
    "– полносвязный слой из **16 нейронов Dense**; \\\n",
    "– используется механизм Дропаут (случайное отключение нейронных связей во время обучения); \\\n",
    "– последний слой должен выдавать два значения (вероятности того, что на фото кошка или собака – два класса). \\\n",
    "Таким образом мы решаем задачу двухклассовой классификации."
   ]
  },
  {
   "cell_type": "code",
   "execution_count": null,
   "metadata": {},
   "outputs": [],
   "source": [
    "def model_maker():\n",
    "    # Создание базовой модели MobileNet без верхнего слоя классификации,\n",
    "    # указывается форма входных данных (ширина, высота, количество каналов)\n",
    "    base_model = MobileNet(include_top=False, input_shape=(IMG_WIDTH, IMG_HEIGHT, 3))\n",
    "    \n",
    "    # Замораживаем веса всех слоев базовой модели, чтобы они не обучались\n",
    "    for layer in base_model.layers[:]:\n",
    "        layer.trainable = False\n",
    "    \n",
    "    # Определение входного тензора модели\n",
    "    input = Input(shape=(IMG_WIDTH, IMG_HEIGHT, 3))\n",
    "    \n",
    "    # Пропуск данных через базовую модель\n",
    "    custom_model = base_model(input)\n",
    "    \n",
    "    # Глобальное пулингование для уменьшения размерности признаков\n",
    "    custom_model = GlobalAveragePooling2D()(custom_model)\n",
    "    \n",
    "    # Полносвязный слой с 16 нейронами и функцией активации ReLU\n",
    "    custom_model = Dense(23, activation='relu')(custom_model)####################################################3\n",
    "    \n",
    "    # Слой регуляризации для предотвращения переобучения\n",
    "    custom_model = Dropout(0.25)(custom_model)\n",
    "    \n",
    "    # Выходной слой с NUM_CLASSES нейронами и функцией активации softmax для многоклассовой классификации\n",
    "    predictions = Dense(NUM_CLASSES, activation='softmax')(custom_model)\n",
    "    \n",
    "    # Создание модели с заданными входом и выходом\n",
    "    return Model(inputs=input, outputs=predictions)\n"
   ]
  },
  {
   "cell_type": "markdown",
   "metadata": {},
   "source": [
    "Компилируем и обучаем модель."
   ]
  },
  {
   "cell_type": "code",
   "execution_count": null,
   "metadata": {},
   "outputs": [
    {
     "name": "stdout",
     "output_type": "stream",
     "text": [
      "Epoch 1/10\n",
      "\u001b[1m200/200\u001b[0m \u001b[32m━━━━━━━━━━━━━━━━━━━━\u001b[0m\u001b[37m\u001b[0m \u001b[1m45s\u001b[0m 174ms/step - acc: 0.7670 - loss: 0.4941 - val_acc: 0.9603 - val_loss: 0.1293\n",
      "Epoch 2/10\n",
      "\u001b[1m200/200\u001b[0m \u001b[32m━━━━━━━━━━━━━━━━━━━━\u001b[0m\u001b[37m\u001b[0m \u001b[1m35s\u001b[0m 171ms/step - acc: 0.9594 - loss: 0.1276 - val_acc: 0.9205 - val_loss: 0.1597\n",
      "Epoch 3/10\n",
      "\u001b[1m200/200\u001b[0m \u001b[32m━━━━━━━━━━━━━━━━━━━━\u001b[0m\u001b[37m\u001b[0m \u001b[1m35s\u001b[0m 170ms/step - acc: 0.9562 - loss: 0.1430 - val_acc: 0.9470 - val_loss: 0.0958\n",
      "Epoch 4/10\n",
      "\u001b[1m200/200\u001b[0m \u001b[32m━━━━━━━━━━━━━━━━━━━━\u001b[0m\u001b[37m\u001b[0m \u001b[1m36s\u001b[0m 172ms/step - acc: 0.9768 - loss: 0.0638 - val_acc: 0.9603 - val_loss: 0.0712\n",
      "Epoch 5/10\n",
      "\u001b[1m200/200\u001b[0m \u001b[32m━━━━━━━━━━━━━━━━━━━━\u001b[0m\u001b[37m\u001b[0m \u001b[1m40s\u001b[0m 168ms/step - acc: 0.9696 - loss: 0.0763 - val_acc: 0.9603 - val_loss: 0.0751\n",
      "Epoch 6/10\n",
      "\u001b[1m200/200\u001b[0m \u001b[32m━━━━━━━━━━━━━━━━━━━━\u001b[0m\u001b[37m\u001b[0m \u001b[1m36s\u001b[0m 171ms/step - acc: 0.9723 - loss: 0.0709 - val_acc: 0.9603 - val_loss: 0.0844\n",
      "Epoch 7/10\n",
      "\u001b[1m200/200\u001b[0m \u001b[32m━━━━━━━━━━━━━━━━━━━━\u001b[0m\u001b[37m\u001b[0m \u001b[1m36s\u001b[0m 169ms/step - acc: 0.9841 - loss: 0.0468 - val_acc: 0.9205 - val_loss: 0.2003\n",
      "Epoch 8/10\n",
      "\u001b[1m200/200\u001b[0m \u001b[32m━━━━━━━━━━━━━━━━━━━━\u001b[0m\u001b[37m\u001b[0m \u001b[1m47s\u001b[0m 203ms/step - acc: 0.9731 - loss: 0.0606 - val_acc: 0.9536 - val_loss: 0.0802\n",
      "Epoch 9/10\n",
      "\u001b[1m200/200\u001b[0m \u001b[32m━━━━━━━━━━━━━━━━━━━━\u001b[0m\u001b[37m\u001b[0m \u001b[1m39s\u001b[0m 189ms/step - acc: 0.9776 - loss: 0.0498 - val_acc: 0.9536 - val_loss: 0.0744\n",
      "Epoch 10/10\n",
      "\u001b[1m200/200\u001b[0m \u001b[32m━━━━━━━━━━━━━━━━━━━━\u001b[0m\u001b[37m\u001b[0m \u001b[1m36s\u001b[0m 176ms/step - acc: 0.9717 - loss: 0.0701 - val_acc: 0.9801 - val_loss: 0.0462\n"
     ]
    }
   ],
   "source": [
    "model = model_maker()  # Создание модели нейронной сети с помощью функции model_maker()\n",
    "\n",
    "model.compile(loss='categorical_crossentropy',  # Функция потерь - категориальная перекрестная энтропия\n",
    "              optimizer=tf.keras.optimizers.Adam(learning_rate=0.001),  # Оптимизатор - Adam с коэффициентом скорости обучения 0.001\n",
    "              metrics=['acc'])  # Метрика для оценки производительности модели - точность классификации\n",
    "\n",
    "num_steps = math.ceil(float(TRAIN_SAMPLES) / BATCH_SIZE)  # Вычисление количества шагов обучения\n",
    "\n",
    "history = model.fit(train_generator,  # Обучение модели на обучающих данных\n",
    "                steps_per_epoch=num_steps,  # Количество шагов обучения\n",
    "                epochs=4,  # Количество эпох обучения ############################################################\n",
    "                validation_data=validation_generator,  # Данные для валидации модели\n",
    "                validation_steps=num_steps)  # Количество шагов валидации"
   ]
  },
  {
   "cell_type": "markdown",
   "id": "784d81cc",
   "metadata": {},
   "source": [
    "Построим график."
   ]
  },
  {
   "cell_type": "code",
   "execution_count": null,
   "id": "21fd9e77",
   "metadata": {},
   "outputs": [
    {
     "data": {
      "image/png": "[encoded data removed]",
      "text/plain": [
       "<Figure size 640x480 with 1 Axes>"
      ]
     },
     "metadata": {},
     "output_type": "display_data"
    }
   ],
   "source": [
    "loss_function = history.history['loss']  # Получение значений функции потерь на обучающем наборе данных из истории обучения\n",
    "val_loss_function = history.history['val_loss']  # Получение значений функции потерь на валидационном наборе данных из истории обучения\n",
    "epochs = range(1, len(loss_function) + 1)  # Создание списка эпох для оси x\n",
    "\n",
    "plt.title('Losses')  # Заголовок графика\n",
    "plt.plot(epochs, loss_function, color='blue', label='Потери в обучающей выборке')  # График функции потерь на обучающем наборе\n",
    "plt.plot(epochs, val_loss_function, color='red', label='Потери в валидационной выборке')  # График функции потерь на валидационном наборе\n",
    "plt.xlabel('Epoch')  # Подпись оси x\n",
    "plt.ylabel('Loss value')  # Подпись оси y\n",
    "plt.legend()  # Добавление легенды\n",
    "plt.show()  # Отображение графика\n",
    "\n",
    "\n"
   ]
  },
  {
   "cell_type": "markdown",
   "metadata": {},
   "source": [
    "Визуализация функции потерь позволяет оценить эффективность обучения модели: мы стремимся к тому, чтобы функция потерь на обучающем и валидационном наборах данных уменьшалась с каждой эпохой, что свидетельствует о том, что модель обучается эффективно и не переобучается. \\\n",
    "Теперь модель можно использовать и проверить, как она работает."
   ]
  },
  {
   "cell_type": "code",
   "execution_count": null,
   "metadata": {
    "scrolled": false
   },
   "outputs": [
    {
     "ename": "ValueError",
     "evalue": "Sample larger than population or is negative",
     "output_type": "error",
     "traceback": [
      "\u001b[1;31m---------------------------------------------------------------------------\u001b[0m",
      "\u001b[1;31mValueError\u001b[0m                                Traceback (most recent call last)",
      "Cell \u001b[1;32mIn[75], line 18\u001b[0m\n\u001b[0;32m     15\u001b[0m         files\u001b[38;5;241m.\u001b[39mappend(os\u001b[38;5;241m.\u001b[39mpath\u001b[38;5;241m.\u001b[39mjoin(root, filename))\n\u001b[0;32m     17\u001b[0m \u001b[38;5;66;03m# Выбор случайных 10 изображений из списка files и их отображение с предсказанием модели\u001b[39;00m\n\u001b[1;32m---> 18\u001b[0m \u001b[38;5;28;01mfor\u001b[39;00m f \u001b[38;5;129;01min\u001b[39;00m random\u001b[38;5;241m.\u001b[39msample(files, \u001b[38;5;241m10\u001b[39m):\n\u001b[0;32m     19\u001b[0m     img_path \u001b[38;5;241m=\u001b[39m f  \u001b[38;5;66;03m# Путь к изображению\u001b[39;00m\n\u001b[0;32m     20\u001b[0m     img \u001b[38;5;241m=\u001b[39m image\u001b[38;5;241m.\u001b[39mload_img(img_path, target_size\u001b[38;5;241m=\u001b[39m(\u001b[38;5;241m224\u001b[39m,\u001b[38;5;241m224\u001b[39m))  \u001b[38;5;66;03m# Загрузка изображения с изменением размера до 224x224 пикселя\u001b[39;00m\n",
      "File \u001b[1;32mC:\\ProgramData\\anaconda3\\Lib\\random.py:456\u001b[0m, in \u001b[0;36mRandom.sample\u001b[1;34m(self, population, k, counts)\u001b[0m\n\u001b[0;32m    454\u001b[0m randbelow \u001b[38;5;241m=\u001b[39m \u001b[38;5;28mself\u001b[39m\u001b[38;5;241m.\u001b[39m_randbelow\n\u001b[0;32m    455\u001b[0m \u001b[38;5;28;01mif\u001b[39;00m \u001b[38;5;129;01mnot\u001b[39;00m \u001b[38;5;241m0\u001b[39m \u001b[38;5;241m<\u001b[39m\u001b[38;5;241m=\u001b[39m k \u001b[38;5;241m<\u001b[39m\u001b[38;5;241m=\u001b[39m n:\n\u001b[1;32m--> 456\u001b[0m     \u001b[38;5;28;01mraise\u001b[39;00m \u001b[38;5;167;01mValueError\u001b[39;00m(\u001b[38;5;124m\"\u001b[39m\u001b[38;5;124mSample larger than population or is negative\u001b[39m\u001b[38;5;124m\"\u001b[39m)\n\u001b[0;32m    457\u001b[0m result \u001b[38;5;241m=\u001b[39m [\u001b[38;5;28;01mNone\u001b[39;00m] \u001b[38;5;241m*\u001b[39m k\n\u001b[0;32m    458\u001b[0m setsize \u001b[38;5;241m=\u001b[39m \u001b[38;5;241m21\u001b[39m        \u001b[38;5;66;03m# size of a small set minus size of an empty list\u001b[39;00m\n",
      "\u001b[1;31mValueError\u001b[0m: Sample larger than population or is negative"
     ]
    }
   ],
   "source": [
    "import os  # Импорт модуля os для работы с файловой системой\n",
    "import random  # Импорт модуля random для работы с случайными числами\n",
    "\n",
    "categ = ['cat', 'dog']  # Список категорий: 'cat' - кошка, 'dog' - собака\n",
    "files = []  # Пустой список для хранения путей к изображениям\n",
    "\n",
    "# Перебор всех файлов в каталоге с кошками и добавление путей в список files\n",
    "for root, dirs, filenames in os.walk('CatsDogs/test/cats'):\n",
    "    for filename in filenames:\n",
    "        files.append(os.path.join(root, filename))\n",
    "\n",
    "# Перебор всех файлов в каталоге с собаками и добавление путей в список files\n",
    "for root, dirs, filenames in os.walk('CatsDogs/test/dogs'):\n",
    "    for filename in filenames:\n",
    "        files.append(os.path.join(root, filename))\n",
    "\n",
    "# Выбор случайных 10 изображений из списка files и их отображение с предсказанием модели\n",
    "for f in random.sample(files, 10):\n",
    "    img_path = f  # Путь к изображению\n",
    "    img = image.load_img(img_path, target_size=(224,224))  # Загрузка изображения с изменением размера до 224x224 пикселя\n",
    "    img_array = image.img_to_array(img)  # Преобразование изображения в массив numpy\n",
    "\n",
    "    expanded_img_array = np.expand_dims(img_array, axis=0)  # Расширение массива изображения\n",
    "    preprocessed_img = preprocess_input(expanded_img_array)  # Предварительная обработка изображения\n",
    "    prediction = model.predict(preprocessed_img)  # Получение предсказания от модели\n",
    "    \n",
    "    plt.title(categ[np.argmax(prediction)])  # Установка заголовка графика в соответствии с предсказанием модели\n",
    "    plt.imshow(img)  # Отображение изображения\n",
    "    plt.show()  # Показ графика\n"
   ]
  },
  {
   "cell_type": "code",
   "execution_count": null,
   "metadata": {},
   "outputs": [],
   "source": []
  }
 ],
 "metadata": {
  "kernelspec": {
   "display_name": "Python 3 (ipykernel)",
   "language": "python",
   "name": "python3"
  },
  "language_info": {
   "codemirror_mode": {
    "name": "ipython",
    "version": 3
   },
   "file_extension": ".py",
   "mimetype": "text/x-python",
   "name": "python",
   "nbconvert_exporter": "python",
   "pygments_lexer": "ipython3",
   "version": "3.11.7"
  }
 },
 "nbformat": 4,
 "nbformat_minor": 5
}
